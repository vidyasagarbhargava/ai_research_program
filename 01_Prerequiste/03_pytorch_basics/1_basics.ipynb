{
 "cells": [
  {
   "cell_type": "markdown",
   "id": "9fac10a1-1490-43fd-a0ec-2cabd4a50aca",
   "metadata": {},
   "source": [
    "## PyTorch Basics\n",
    "\n",
    "- Basic Tensor Operations\n",
    "- Autograd\n",
    "- Training loop with model, loss & optimizer\n",
    "- Neural Network\n",
    "- GPU support\n",
    "- Working of custom Datasets and Dataloaders\n"
   ]
  },
  {
   "cell_type": "markdown",
   "id": "a632d583-7122-4d3e-810b-c754c0915ffd",
   "metadata": {},
   "source": [
    "### Basic Tensor Operations"
   ]
  },
  {
   "cell_type": "code",
   "execution_count": 1,
   "id": "a2d94949-7039-4f19-8f48-a3c784b04a48",
   "metadata": {},
   "outputs": [
    {
     "data": {
      "text/plain": [
       "tensor([0.])"
      ]
     },
     "execution_count": 1,
     "metadata": {},
     "output_type": "execute_result"
    }
   ],
   "source": [
    "import torch\n",
    "torch.empty(1)"
   ]
  },
  {
   "cell_type": "code",
   "execution_count": 2,
   "id": "67c76707-0fad-46e2-91b2-a19c99c9d011",
   "metadata": {},
   "outputs": [
    {
     "data": {
      "text/plain": [
       "tensor([[[0., 0., 0., 0.],\n",
       "         [0., 0., 0., 0.],\n",
       "         [0., 0., 0., 0.]],\n",
       "\n",
       "        [[0., 0., 0., 0.],\n",
       "         [0., 0., 0., 0.],\n",
       "         [0., 0., 0., 0.]]])"
      ]
     },
     "execution_count": 2,
     "metadata": {},
     "output_type": "execute_result"
    }
   ],
   "source": [
    "torch.empty([2,3,4])"
   ]
  },
  {
   "cell_type": "code",
   "execution_count": 3,
   "id": "b753cc8c-b6da-4e23-a02b-763be092ae23",
   "metadata": {},
   "outputs": [
    {
     "data": {
      "text/plain": [
       "tensor([[[0.8890, 0.2945, 0.4910, 0.7526, 0.5299],\n",
       "         [0.6002, 0.0156, 0.8237, 0.2810, 0.2004],\n",
       "         [0.9030, 0.2810, 0.7067, 0.0748, 0.9059],\n",
       "         [0.9844, 0.9314, 0.1575, 0.9912, 0.0809]],\n",
       "\n",
       "        [[0.9847, 0.8644, 0.0481, 0.7922, 0.8131],\n",
       "         [0.8574, 0.3858, 0.6432, 0.2940, 0.0903],\n",
       "         [0.1011, 0.9237, 0.2300, 0.7564, 0.1402],\n",
       "         [0.1552, 0.4634, 0.9890, 0.0916, 0.3709]],\n",
       "\n",
       "        [[0.0650, 0.5188, 0.8187, 0.8345, 0.3984],\n",
       "         [0.8679, 0.3188, 0.2989, 0.0860, 0.5621],\n",
       "         [0.4283, 0.9941, 0.3105, 0.2222, 0.0237],\n",
       "         [0.3597, 0.2994, 0.3429, 0.9960, 0.2089]]])"
      ]
     },
     "execution_count": 3,
     "metadata": {},
     "output_type": "execute_result"
    }
   ],
   "source": [
    "y = torch.rand([3,4,5])\n",
    "y"
   ]
  },
  {
   "cell_type": "code",
   "execution_count": 4,
   "id": "bbd8aa77-8a86-4a7d-85ea-1250f287fe5f",
   "metadata": {},
   "outputs": [
    {
     "data": {
      "text/plain": [
       "torch.Size([3, 4, 5])"
      ]
     },
     "execution_count": 4,
     "metadata": {},
     "output_type": "execute_result"
    }
   ],
   "source": [
    "y.size()"
   ]
  },
  {
   "cell_type": "code",
   "execution_count": 5,
   "id": "badf2fad-24c7-4c5f-b06c-18c448adea4e",
   "metadata": {},
   "outputs": [
    {
     "data": {
      "text/plain": [
       "torch.float32"
      ]
     },
     "execution_count": 5,
     "metadata": {},
     "output_type": "execute_result"
    }
   ],
   "source": [
    "y.dtype"
   ]
  },
  {
   "cell_type": "code",
   "execution_count": 10,
   "id": "56bc018e-2e17-4113-bbf2-d6f3eddb4907",
   "metadata": {},
   "outputs": [
    {
     "data": {
      "text/plain": [
       "tensor([[1.5118, 0.4861, 0.2198],\n",
       "        [0.5628, 0.9093, 0.3365]])"
      ]
     },
     "execution_count": 10,
     "metadata": {},
     "output_type": "execute_result"
    }
   ],
   "source": [
    "x = torch.rand([2,3])\n",
    "y = torch.rand([2,3])\n",
    "z = x + y\n",
    "z"
   ]
  },
  {
   "cell_type": "code",
   "execution_count": 11,
   "id": "278af785-5a2d-47f9-ae8d-48bc69b83872",
   "metadata": {},
   "outputs": [
    {
     "data": {
      "text/plain": [
       "tensor([[1.5118, 0.4861, 0.2198],\n",
       "        [0.5628, 0.9093, 0.3365]])"
      ]
     },
     "execution_count": 11,
     "metadata": {},
     "output_type": "execute_result"
    }
   ],
   "source": [
    "# inplace operation\n",
    "y.add_(x)"
   ]
  },
  {
   "cell_type": "code",
   "execution_count": 13,
   "id": "d65e43ea-5606-477b-87b4-9477e2dbd6cb",
   "metadata": {},
   "outputs": [
    {
     "data": {
      "text/plain": [
       "tensor([[0.4656, 0.1826, 0.3996, 0.7463],\n",
       "        [0.1164, 0.4148, 0.1755, 0.5546],\n",
       "        [0.1678, 0.6080, 0.6579, 0.8241]])"
      ]
     },
     "execution_count": 13,
     "metadata": {},
     "output_type": "execute_result"
    }
   ],
   "source": [
    "\n",
    "x= torch.rand([3,4])\n",
    "x"
   ]
  },
  {
   "cell_type": "code",
   "execution_count": 14,
   "id": "08105a4b-d16a-4d5e-8c22-63378f36491f",
   "metadata": {},
   "outputs": [
    {
     "data": {
      "text/plain": [
       "tensor([0.4656, 0.1826, 0.3996, 0.7463, 0.1164, 0.4148, 0.1755, 0.5546, 0.1678,\n",
       "        0.6080, 0.6579, 0.8241])"
      ]
     },
     "execution_count": 14,
     "metadata": {},
     "output_type": "execute_result"
    }
   ],
   "source": [
    "#reshape\n",
    "x.view(12)"
   ]
  },
  {
   "cell_type": "code",
   "execution_count": 15,
   "id": "cd757229-0a9d-46b1-b208-6175e63f8ee7",
   "metadata": {},
   "outputs": [
    {
     "data": {
      "text/plain": [
       "tensor([[0.4656, 0.1826, 0.3996, 0.7463, 0.1164, 0.4148],\n",
       "        [0.1755, 0.5546, 0.1678, 0.6080, 0.6579, 0.8241]])"
      ]
     },
     "execution_count": 15,
     "metadata": {},
     "output_type": "execute_result"
    }
   ],
   "source": [
    "x.view(-1,6)"
   ]
  },
  {
   "cell_type": "markdown",
   "id": "db7ac93e-1e59-48f7-8738-9112de6af5b5",
   "metadata": {},
   "source": [
    "## GPU Support"
   ]
  },
  {
   "cell_type": "code",
   "execution_count": null,
   "id": "05239f53-2fdc-453e-8176-272a045e4009",
   "metadata": {},
   "outputs": [],
   "source": [
    "device = torch.device('mps' if torch.backends.mps.is_available()  else 'cpu')\n",
    "print(device)"
   ]
  },
  {
   "cell_type": "code",
   "execution_count": null,
   "id": "e670736e-e5c9-4e23-929a-4a57e08eb9c1",
   "metadata": {},
   "outputs": [],
   "source": [
    "y = torch.rand([3,4,5])\n",
    "y = y.to(device)\n",
    "y"
   ]
  },
  {
   "cell_type": "code",
   "execution_count": null,
   "id": "6f861312-138c-4c23-9155-02aff91a2188",
   "metadata": {},
   "outputs": [],
   "source": [
    "y.to('cpu')"
   ]
  },
  {
   "cell_type": "code",
   "execution_count": 17,
   "id": "10458d7e-d758-4cb9-9eb8-5517e4de05d8",
   "metadata": {},
   "outputs": [],
   "source": [
    "import torch.nn as nn\n",
    "import torch.optim as optim\n",
    "from torch.utils.data import Dataset, DataLoader\n"
   ]
  },
  {
   "cell_type": "code",
   "execution_count": null,
   "id": "e84a8d53-41b4-4892-8114-c9e4cd090e25",
   "metadata": {},
   "outputs": [],
   "source": [
    "class PlayCardDataset(Dataset):\n",
    "    def __init__(self, data_dir,transform=None):\n",
    "        pass\n",
    "\n",
    "    def __len__(self):\n",
    "        pass\n",
    "\n",
    "    def __getitem__(self, idx):\n",
    "        return"
   ]
  }
 ],
 "metadata": {
  "kernelspec": {
   "display_name": "nlp",
   "language": "python",
   "name": "nlp"
  },
  "language_info": {
   "codemirror_mode": {
    "name": "ipython",
    "version": 3
   },
   "file_extension": ".py",
   "mimetype": "text/x-python",
   "name": "python",
   "nbconvert_exporter": "python",
   "pygments_lexer": "ipython3",
   "version": "3.12.4"
  }
 },
 "nbformat": 4,
 "nbformat_minor": 5
}
