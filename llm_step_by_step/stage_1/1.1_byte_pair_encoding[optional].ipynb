{
 "cells": [
  {
   "cell_type": "markdown",
   "metadata": {},
   "source": [
    "Implementation of Byte pair encoding from scratch [Andrej Karpathy video]"
   ]
  },
  {
   "cell_type": "markdown",
   "metadata": {},
   "source": [
    "A Good tokenization webapp : https://tiktokenizer.vercel.app"
   ]
  },
  {
   "cell_type": "markdown",
   "metadata": {},
   "source": [
    "Q: -**What is string in python?**\n",
    "\n",
    "A:- A string are immutable sequences of Unicode code points.  \n",
    "\n",
    "\n",
    "So what are unicode code points?\n",
    "\n",
    "It is text encoding standard maintained by Unicode Consortium designed to support the use of text written in all world's major writing systems.  \n",
    " It supports 148813 characters and 161 scripts\n",
    " "
   ]
  },
  {
   "cell_type": "code",
   "execution_count": 8,
   "metadata": {},
   "outputs": [
    {
     "data": {
      "text/plain": [
       "104"
      ]
     },
     "execution_count": 8,
     "metadata": {},
     "output_type": "execute_result"
    }
   ],
   "source": [
    "#unicode code point access by ord function in python\n",
    "\n",
    "ord(\"h\")"
   ]
  },
  {
   "cell_type": "code",
   "execution_count": 9,
   "metadata": {},
   "outputs": [
    {
     "data": {
      "text/plain": [
       "128075"
      ]
     },
     "execution_count": 9,
     "metadata": {},
     "output_type": "execute_result"
    }
   ],
   "source": [
    "ord(\"👋\")"
   ]
  },
  {
   "cell_type": "code",
   "execution_count": 12,
   "metadata": {},
   "outputs": [
    {
     "data": {
      "text/plain": [
       "8364"
      ]
     },
     "execution_count": 12,
     "metadata": {},
     "output_type": "execute_result"
    }
   ],
   "source": [
    "ord(\"€\")"
   ]
  },
  {
   "cell_type": "code",
   "execution_count": 13,
   "metadata": {},
   "outputs": [
    {
     "data": {
      "text/plain": [
       "[104,\n",
       " 101,\n",
       " 108,\n",
       " 108,\n",
       " 111,\n",
       " 32,\n",
       " 128075,\n",
       " 44,\n",
       " 32,\n",
       " 104,\n",
       " 111,\n",
       " 119,\n",
       " 32,\n",
       " 97,\n",
       " 114,\n",
       " 101,\n",
       " 32,\n",
       " 121,\n",
       " 111,\n",
       " 117,\n",
       " 32,\n",
       " 100,\n",
       " 111,\n",
       " 105,\n",
       " 110,\n",
       " 103,\n",
       " 63]"
      ]
     },
     "execution_count": 13,
     "metadata": {},
     "output_type": "execute_result"
    }
   ],
   "source": [
    "[ord(x) for x in \"hello 👋, how are you doing?\"]"
   ]
  },
  {
   "cell_type": "code",
   "execution_count": 14,
   "metadata": {},
   "outputs": [
    {
     "data": {
      "text/plain": [
       "[104,\n",
       " 101,\n",
       " 108,\n",
       " 108,\n",
       " 111,\n",
       " 32,\n",
       " 240,\n",
       " 159,\n",
       " 145,\n",
       " 139,\n",
       " 44,\n",
       " 32,\n",
       " 104,\n",
       " 111,\n",
       " 119,\n",
       " 32,\n",
       " 97,\n",
       " 114,\n",
       " 101,\n",
       " 32,\n",
       " 121,\n",
       " 111,\n",
       " 117,\n",
       " 32,\n",
       " 100,\n",
       " 111,\n",
       " 105,\n",
       " 110,\n",
       " 103,\n",
       " 63]"
      ]
     },
     "execution_count": 14,
     "metadata": {},
     "output_type": "execute_result"
    }
   ],
   "source": [
    "list(\"hello 👋, how are you doing?\".encode(\"utf-8\"))"
   ]
  },
  {
   "cell_type": "markdown",
   "metadata": {},
   "source": [
    "Q:- **why can't we simply use unicode code points and not tokenization ?**\n",
    "\n",
    "1. It can make vocabulary quite long of 148813 code points.\n",
    "2. It is very much alive and not stable \n",
    "\n",
    "We need something better and here comes encodings and there are 3 types of encodings\n",
    "\n",
    "1. UTF-8\n",
    "2. UTF-16\n",
    "3. UTF-32\n",
    "\n",
    "\n",
    "These encodings takes unicode text and translate into binary data or byte streams.\n",
    "\n",
    "> UTF-8 is the most common\n",
    "\n",
    "\n",
    "Disadvantage of using UTF-8 is it imply vocab length of only 256 tokens.Also it makes all our text stretch out very long sequence of bytes. So it is very inefficient for next token prediction task.\n",
    "\n",
    "\n",
    "So we don't want to use raw byte of UTF-8, we want to support larger vocab size but stick to UTF-8 encodings of these strings. So answer is Byte Pair encodings which allows us to compress these byte sequences."
   ]
  },
  {
   "cell_type": "markdown",
   "metadata": {},
   "source": [
    "## Byte Pair Encoding "
   ]
  },
  {
   "cell_type": "markdown",
   "metadata": {},
   "source": [
    "Lets say we have vocab size of 4 and has following sequnence of length 11.\n",
    "\n",
    "`aaabdaaabac`  \n",
    "\n",
    "Now what we do is to iteratively find pair of tokens which occurs most frequently, and once identified that pair we replace with a single new token\n",
    "\n",
    "`ZabdZabac`  \n",
    "Z=aa\n",
    "\n",
    "then repeat the process with `ab`  \n",
    "`ZYdZYac`  \n",
    "Y=ab  \n",
    "Z=aa  \n",
    "\n",
    "again look at sequence and replace ZY with X   \n",
    "`XdXac`  \n",
    "X=ZY  \n",
    "Y=ab  \n",
    "Z=aa  \n",
    "\n",
    "\n",
    "\n",
    "Now we are left with sequence of length 5  and vocab of size 7   \n",
    "\n",
    "In similar manner we r going to mint new tokens from 256 byte sequences  and adding upto our vocabulary.\n",
    "\n",
    "Let's implement this !!!"
   ]
  },
  {
   "cell_type": "code",
   "execution_count": 30,
   "metadata": {},
   "outputs": [
    {
     "name": "stdout",
     "output_type": "stream",
     "text": [
      "---\n",
      "\n",
      "Apollo 11 was a spaceflight conducted by the United States from July 16 to July 24, 1969. It marked the first time in history that humans landed on the Moon. Commander Neil Armstrong \n",
      "and Lunar Module Pilot Buzz Aldrin landed the Apollo Lunar Module Eagle on July 20, 1969, at 20:17 UTC, and Armstrong became the first person to step onto the Moon's surface six hours \n",
      "and 39 minutes later, on July 21 at 02:56 UTC. Aldrin joined him 19 minutes later, and they spent about two and a quarter hours together exploring the site they had named Tranquility Base \n",
      "upon landing. Armstrong and Aldrin collected 47.5 pounds (21.5 kg) of lunar material to bring back to Earth as pilot Michael Collins flew the Command Module Columbia in lunar orbit, and were on \n",
      "the Moon's surface for 21 hours, 36 minutes, before lifting off to rejoin Columbia.\n",
      "\n",
      "length: 838\n",
      "---\n",
      "[10, 65, 112, 111, 108, 108, 111, 32, 49, 49, 32, 119, 97, 115, 32, 97, 32, 115, 112, 97, 99, 101, 102, 108, 105, 103, 104, 116, 32, 99, 111, 110, 100, 117, 99, 116, 101, 100, 32, 98, 121, 32, 116, 104, 101, 32, 85, 110, 105, 116, 101, 100, 32, 83, 116, 97, 116, 101, 115, 32, 102, 114, 111, 109, 32, 74, 117, 108, 121, 32, 49, 54, 32, 116, 111, 32, 74, 117, 108, 121, 32, 50, 52, 44, 32, 49, 57, 54, 57, 46, 32, 73, 116, 32, 109, 97, 114, 107, 101, 100, 32, 116, 104, 101, 32, 102, 105, 114, 115, 116, 32, 116, 105, 109, 101, 32, 105, 110, 32, 104, 105, 115, 116, 111, 114, 121, 32, 116, 104, 97, 116, 32, 104, 117, 109, 97, 110, 115, 32, 108, 97, 110, 100, 101, 100, 32, 111, 110, 32, 116, 104, 101, 32, 77, 111, 111, 110, 46, 32, 67, 111, 109, 109, 97, 110, 100, 101, 114, 32, 78, 101, 105, 108, 32, 65, 114, 109, 115, 116, 114, 111, 110, 103, 32, 10, 97, 110, 100, 32, 76, 117, 110, 97, 114, 32, 77, 111, 100, 117, 108, 101, 32, 80, 105, 108, 111, 116, 32, 66, 117, 122, 122, 32, 65, 108, 100, 114, 105, 110, 32, 108, 97, 110, 100, 101, 100, 32, 116, 104, 101, 32, 65, 112, 111, 108, 108, 111, 32, 76, 117, 110, 97, 114, 32, 77, 111, 100, 117, 108, 101, 32, 69, 97, 103, 108, 101, 32, 111, 110, 32, 74, 117, 108, 121, 32, 50, 48, 44, 32, 49, 57, 54, 57, 44, 32, 97, 116, 32, 50, 48, 58, 49, 55, 32, 85, 84, 67, 44, 32, 97, 110, 100, 32, 65, 114, 109, 115, 116, 114, 111, 110, 103, 32, 98, 101, 99, 97, 109, 101, 32, 116, 104, 101, 32, 102, 105, 114, 115, 116, 32, 112, 101, 114, 115, 111, 110, 32, 116, 111, 32, 115, 116, 101, 112, 32, 111, 110, 116, 111, 32, 116, 104, 101, 32, 77, 111, 111, 110, 39, 115, 32, 115, 117, 114, 102, 97, 99, 101, 32, 115, 105, 120, 32, 104, 111, 117, 114, 115, 32, 10, 97, 110, 100, 32, 51, 57, 32, 109, 105, 110, 117, 116, 101, 115, 32, 108, 97, 116, 101, 114, 44, 32, 111, 110, 32, 74, 117, 108, 121, 32, 50, 49, 32, 97, 116, 32, 48, 50, 58, 53, 54, 32, 85, 84, 67, 46, 32, 65, 108, 100, 114, 105, 110, 32, 106, 111, 105, 110, 101, 100, 32, 104, 105, 109, 32, 49, 57, 32, 109, 105, 110, 117, 116, 101, 115, 32, 108, 97, 116, 101, 114, 44, 32, 97, 110, 100, 32, 116, 104, 101, 121, 32, 115, 112, 101, 110, 116, 32, 97, 98, 111, 117, 116, 32, 116, 119, 111, 32, 97, 110, 100, 32, 97, 32, 113, 117, 97, 114, 116, 101, 114, 32, 104, 111, 117, 114, 115, 32, 116, 111, 103, 101, 116, 104, 101, 114, 32, 101, 120, 112, 108, 111, 114, 105, 110, 103, 32, 116, 104, 101, 32, 115, 105, 116, 101, 32, 116, 104, 101, 121, 32, 104, 97, 100, 32, 110, 97, 109, 101, 100, 32, 84, 114, 97, 110, 113, 117, 105, 108, 105, 116, 121, 32, 66, 97, 115, 101, 32, 10, 117, 112, 111, 110, 32, 108, 97, 110, 100, 105, 110, 103, 46, 32, 65, 114, 109, 115, 116, 114, 111, 110, 103, 32, 97, 110, 100, 32, 65, 108, 100, 114, 105, 110, 32, 99, 111, 108, 108, 101, 99, 116, 101, 100, 32, 52, 55, 46, 53, 32, 112, 111, 117, 110, 100, 115, 32, 40, 50, 49, 46, 53, 32, 107, 103, 41, 32, 111, 102, 32, 108, 117, 110, 97, 114, 32, 109, 97, 116, 101, 114, 105, 97, 108, 32, 116, 111, 32, 98, 114, 105, 110, 103, 32, 98, 97, 99, 107, 32, 116, 111, 32, 69, 97, 114, 116, 104, 32, 97, 115, 32, 112, 105, 108, 111, 116, 32, 77, 105, 99, 104, 97, 101, 108, 32, 67, 111, 108, 108, 105, 110, 115, 32, 102, 108, 101, 119, 32, 116, 104, 101, 32, 67, 111, 109, 109, 97, 110, 100, 32, 77, 111, 100, 117, 108, 101, 32, 67, 111, 108, 117, 109, 98, 105, 97, 32, 105, 110, 32, 108, 117, 110, 97, 114, 32, 111, 114, 98, 105, 116, 44, 32, 97, 110, 100, 32, 119, 101, 114, 101, 32, 111, 110, 32, 10, 116, 104, 101, 32, 77, 111, 111, 110, 39, 115, 32, 115, 117, 114, 102, 97, 99, 101, 32, 102, 111, 114, 32, 50, 49, 32, 104, 111, 117, 114, 115, 44, 32, 51, 54, 32, 109, 105, 110, 117, 116, 101, 115, 44, 32, 98, 101, 102, 111, 114, 101, 32, 108, 105, 102, 116, 105, 110, 103, 32, 111, 102, 102, 32, 116, 111, 32, 114, 101, 106, 111, 105, 110, 32, 67, 111, 108, 117, 109, 98, 105, 97, 46, 10]\n",
      "length: 838\n"
     ]
    }
   ],
   "source": [
    "text=\"\"\"\n",
    "Apollo 11 was a spaceflight conducted by the United States from July 16 to July 24, 1969. It marked the first time in history that humans landed on the Moon. Commander Neil Armstrong \n",
    "and Lunar Module Pilot Buzz Aldrin landed the Apollo Lunar Module Eagle on July 20, 1969, at 20:17 UTC, and Armstrong became the first person to step onto the Moon's surface six hours \n",
    "and 39 minutes later, on July 21 at 02:56 UTC. Aldrin joined him 19 minutes later, and they spent about two and a quarter hours together exploring the site they had named Tranquility Base \n",
    "upon landing. Armstrong and Aldrin collected 47.5 pounds (21.5 kg) of lunar material to bring back to Earth as pilot Michael Collins flew the Command Module Columbia in lunar orbit, and were on \n",
    "the Moon's surface for 21 hours, 36 minutes, before lifting off to rejoin Columbia.\n",
    "\"\"\"\n",
    "\n",
    "tokens = text.encode(\"utf-8\")\n",
    "tokens = list(map(int, tokens))\n",
    "\n",
    "print(\"---\")\n",
    "print(text)\n",
    "print(\"length:\", len(text))\n",
    "print(\"---\")\n",
    "print(tokens)\n",
    "\n",
    "print(\"length:\",len(tokens))"
   ]
  },
  {
   "cell_type": "code",
   "execution_count": 36,
   "metadata": {},
   "outputs": [],
   "source": [
    "# find pair of bytes that occurred most frequently !\n",
    "\n",
    "def get_stats(ids):\n",
    "    counts = {}\n",
    "\n",
    "    for pair in zip(ids, ids[1:]):\n",
    "        counts[pair] = counts.get(pair,0)+1\n",
    "    return counts\n",
    "\n",
    "stats = get_stats(tokens)\n",
    "\n",
    "# print(stats)\n",
    "# print(sorted(((v,k) for k,v in stats.items()), reverse=True))"
   ]
  },
  {
   "cell_type": "code",
   "execution_count": 37,
   "metadata": {},
   "outputs": [
    {
     "data": {
      "text/plain": [
       "(101, 32)"
      ]
     },
     "execution_count": 37,
     "metadata": {},
     "output_type": "execute_result"
    }
   ],
   "source": [
    "top_pair = max(stats, key=stats.get)\n",
    "top_pair"
   ]
  },
  {
   "cell_type": "code",
   "execution_count": 39,
   "metadata": {},
   "outputs": [
    {
     "name": "stdout",
     "output_type": "stream",
     "text": [
      "[10, 65, 112, 111, 108, 108, 111, 32, 49, 49, 32, 119, 97, 115, 32, 97, 32, 115, 112, 97, 99, 101, 102, 108, 105, 103, 104, 116, 32, 99, 111, 110, 100, 117, 99, 116, 101, 100, 32, 98, 121, 32, 116, 104, 256, 85, 110, 105, 116, 101, 100, 32, 83, 116, 97, 116, 101, 115, 32, 102, 114, 111, 109, 32, 74, 117, 108, 121, 32, 49, 54, 32, 116, 111, 32, 74, 117, 108, 121, 32, 50, 52, 44, 32, 49, 57, 54, 57, 46, 32, 73, 116, 32, 109, 97, 114, 107, 101, 100, 32, 116, 104, 256, 102, 105, 114, 115, 116, 32, 116, 105, 109, 256, 105, 110, 32, 104, 105, 115, 116, 111, 114, 121, 32, 116, 104, 97, 116, 32, 104, 117, 109, 97, 110, 115, 32, 108, 97, 110, 100, 101, 100, 32, 111, 110, 32, 116, 104, 256, 77, 111, 111, 110, 46, 32, 67, 111, 109, 109, 97, 110, 100, 101, 114, 32, 78, 101, 105, 108, 32, 65, 114, 109, 115, 116, 114, 111, 110, 103, 32, 10, 97, 110, 100, 32, 76, 117, 110, 97, 114, 32, 77, 111, 100, 117, 108, 256, 80, 105, 108, 111, 116, 32, 66, 117, 122, 122, 32, 65, 108, 100, 114, 105, 110, 32, 108, 97, 110, 100, 101, 100, 32, 116, 104, 256, 65, 112, 111, 108, 108, 111, 32, 76, 117, 110, 97, 114, 32, 77, 111, 100, 117, 108, 256, 69, 97, 103, 108, 256, 111, 110, 32, 74, 117, 108, 121, 32, 50, 48, 44, 32, 49, 57, 54, 57, 44, 32, 97, 116, 32, 50, 48, 58, 49, 55, 32, 85, 84, 67, 44, 32, 97, 110, 100, 32, 65, 114, 109, 115, 116, 114, 111, 110, 103, 32, 98, 101, 99, 97, 109, 256, 116, 104, 256, 102, 105, 114, 115, 116, 32, 112, 101, 114, 115, 111, 110, 32, 116, 111, 32, 115, 116, 101, 112, 32, 111, 110, 116, 111, 32, 116, 104, 256, 77, 111, 111, 110, 39, 115, 32, 115, 117, 114, 102, 97, 99, 256, 115, 105, 120, 32, 104, 111, 117, 114, 115, 32, 10, 97, 110, 100, 32, 51, 57, 32, 109, 105, 110, 117, 116, 101, 115, 32, 108, 97, 116, 101, 114, 44, 32, 111, 110, 32, 74, 117, 108, 121, 32, 50, 49, 32, 97, 116, 32, 48, 50, 58, 53, 54, 32, 85, 84, 67, 46, 32, 65, 108, 100, 114, 105, 110, 32, 106, 111, 105, 110, 101, 100, 32, 104, 105, 109, 32, 49, 57, 32, 109, 105, 110, 117, 116, 101, 115, 32, 108, 97, 116, 101, 114, 44, 32, 97, 110, 100, 32, 116, 104, 101, 121, 32, 115, 112, 101, 110, 116, 32, 97, 98, 111, 117, 116, 32, 116, 119, 111, 32, 97, 110, 100, 32, 97, 32, 113, 117, 97, 114, 116, 101, 114, 32, 104, 111, 117, 114, 115, 32, 116, 111, 103, 101, 116, 104, 101, 114, 32, 101, 120, 112, 108, 111, 114, 105, 110, 103, 32, 116, 104, 256, 115, 105, 116, 256, 116, 104, 101, 121, 32, 104, 97, 100, 32, 110, 97, 109, 101, 100, 32, 84, 114, 97, 110, 113, 117, 105, 108, 105, 116, 121, 32, 66, 97, 115, 256, 10, 117, 112, 111, 110, 32, 108, 97, 110, 100, 105, 110, 103, 46, 32, 65, 114, 109, 115, 116, 114, 111, 110, 103, 32, 97, 110, 100, 32, 65, 108, 100, 114, 105, 110, 32, 99, 111, 108, 108, 101, 99, 116, 101, 100, 32, 52, 55, 46, 53, 32, 112, 111, 117, 110, 100, 115, 32, 40, 50, 49, 46, 53, 32, 107, 103, 41, 32, 111, 102, 32, 108, 117, 110, 97, 114, 32, 109, 97, 116, 101, 114, 105, 97, 108, 32, 116, 111, 32, 98, 114, 105, 110, 103, 32, 98, 97, 99, 107, 32, 116, 111, 32, 69, 97, 114, 116, 104, 32, 97, 115, 32, 112, 105, 108, 111, 116, 32, 77, 105, 99, 104, 97, 101, 108, 32, 67, 111, 108, 108, 105, 110, 115, 32, 102, 108, 101, 119, 32, 116, 104, 256, 67, 111, 109, 109, 97, 110, 100, 32, 77, 111, 100, 117, 108, 256, 67, 111, 108, 117, 109, 98, 105, 97, 32, 105, 110, 32, 108, 117, 110, 97, 114, 32, 111, 114, 98, 105, 116, 44, 32, 97, 110, 100, 32, 119, 101, 114, 256, 111, 110, 32, 10, 116, 104, 256, 77, 111, 111, 110, 39, 115, 32, 115, 117, 114, 102, 97, 99, 256, 102, 111, 114, 32, 50, 49, 32, 104, 111, 117, 114, 115, 44, 32, 51, 54, 32, 109, 105, 110, 117, 116, 101, 115, 44, 32, 98, 101, 102, 111, 114, 256, 108, 105, 102, 116, 105, 110, 103, 32, 111, 102, 102, 32, 116, 111, 32, 114, 101, 106, 111, 105, 110, 32, 67, 111, 108, 117, 109, 98, 105, 97, 46, 10]\n",
      "length: 817\n"
     ]
    }
   ],
   "source": [
    "def merge(ids, pair, idx):\n",
    "    newids=[]\n",
    "    i = 0\n",
    "    while i < len(ids):\n",
    "        if i < len(ids) - 1 and ids[i] == pair[0] and ids[i+1] == pair[1]:\n",
    "            newids.append(idx)\n",
    "            i+=2\n",
    "        else:\n",
    "            newids.append(ids[i])\n",
    "            i += 1\n",
    "    return newids\n",
    "    \n",
    "tokens2 = merge(tokens, top_pair, 256)\n",
    "print(tokens2)\n",
    "print(\"length:\", len(tokens2))"
   ]
  },
  {
   "cell_type": "code",
   "execution_count": 40,
   "metadata": {},
   "outputs": [],
   "source": [
    "text = \"\"\"Apollo 11 was a spaceflight conducted by the United States from July 16 to July 24, 1969. It marked the first time in history that humans landed on the Moon. Commander Neil Armstrong and Lunar Module Pilot Buzz Aldrin landed the Apollo Lunar Module Eagle on July 20, 1969, at 20:17 UTC, and Armstrong became the first person to step onto the Moon's surface six hours and 39 minutes later, on July 21 at 02:56 UTC. Aldrin joined him 19 minutes later, and they spent about two and a quarter hours together exploring the site they had named Tranquility Base upon landing. Armstrong and Aldrin collected 47.5 pounds (21.5 kg) of lunar material to bring back to Earth as pilot Michael Collins flew the Command Module Columbia in lunar orbit, and were on the Moon's surface for 21 hours, 36 minutes, before lifting off to rejoin Columbia.\n",
    "\n",
    "Apollo 11 was launched by a Saturn V rocket from Kennedy Space Center on Merritt Island, Florida, on July 16 at 13:32 UTC, and it was the fifth crewed mission of NASA's Apollo program. The Apollo spacecraft had three parts: a command module (CM) with a cabin for the three astronauts, the only part that returned to Earth; a service module (SM), which supported the command module with propulsion, electrical power, oxygen, and water; and a lunar module (LM) that had two stages—a descent stage for landing on the Moon and an ascent stage to place the astronauts back into lunar orbit.\n",
    "\n",
    "After being sent to the Moon by the Saturn V's third stage, the astronauts separated the spacecraft from it and traveled for three days until they entered lunar orbit. Armstrong and Aldrin then moved into Eagle and landed in the Sea of Tranquility on July 20. The astronauts used Eagle's ascent stage to lift off from the lunar surface and rejoin Collins in the command module. They jettisoned Eagle before they performed the maneuvers that propelled Columbia out of the last of its 30 lunar orbits onto a trajectory back to Earth.[9] They returned to Earth and splashed down in the Pacific Ocean on July 24 after more than eight days in space.\n",
    "\n",
    "Armstrong's first step onto the lunar surface was broadcast on live TV to a worldwide audience. He described the event as \"one small step for [a] man, one giant leap for mankind.\"[a][15] Apollo 11 effectively proved U.S. victory in the Space Race to demonstrate spaceflight superiority, by fulfilling a national goal proposed in 1961 by President John F. Kennedy, \"before this decade is out, of landing a man on the Moon and returning him safely to the Earth.\"[16]\n",
    "\n",
    "Background\n",
    "In the late 1950s and early 1960s, the United States was engaged in the Cold War, a geopolitical rivalry with the Soviet Union.[17] On October 4, 1957, the Soviet Union launched Sputnik 1, the first artificial satellite. This surprise success fired fears and imaginations around the world. It demonstrated that the Soviet Union had the capability to deliver nuclear weapons over intercontinental distances, and challenged American claims of military, economic, and technological superiority.[18] This precipitated the Sputnik crisis, and triggered the Space Race to prove which superpower would achieve superior spaceflight capability.[19] President Dwight D. Eisenhower responded to the Sputnik challenge by creating the National Aeronautics and Space Administration (NASA), and initiating Project Mercury,[20] which aimed to launch a man into Earth orbit.[21] But on April 12, 1961, Soviet cosmonaut Yuri Gagarin became the first person in space, and the first to orbit the Earth.[22] Nearly a month later, on May 5, 1961, Alan Shepard became the first American in space, completing a 15-minute suborbital journey. After being recovered from the Atlantic Ocean, he received a congratulatory telephone call from Eisenhower's successor, John F. Kennedy.[23]\n",
    "\n",
    "Since the Soviet Union had higher lift capacity launch vehicles, Kennedy chose, from among options presented by NASA, a challenge beyond the capacity of the existing generation of rocketry, so that the US and Soviet Union would be starting from a position of equality. A crewed mission to the Moon would serve this purpose.[24]\n",
    "\n",
    "On May 25, 1961, Kennedy addressed the United States Congress on \"Urgent National Needs\" and declared:\n",
    "\n",
    "I believe that this nation should commit itself to achieving the goal, before this decade [1960s] is out, of landing a man on the Moon and returning him safely to the Earth. No single space project in this period will be more impressive to mankind, or more important for the long-range exploration of space; and none will be so difficult or expensive to accomplish. We propose to accelerate the development of the appropriate lunar space craft. We propose to develop alternate liquid and solid fuel boosters, much larger than any now being developed, until certain which is superior. We propose additional funds for other engine development and for unmanned explorations—explorations which are particularly important for one purpose which this nation will never overlook: the survival of the man who first makes this daring flight. But in a very real sense, it will not be one man going to the Moon—if we make this judgment affirmatively, it will be an entire nation. For all of us must work to put him there.\n",
    "\n",
    "— Kennedy's speech to Congress[25]\n",
    "On September 12, 1962, Kennedy delivered another speech before a crowd of about 40,000 people in the Rice University football stadium in Houston, Texas.[26][27] A widely quoted refrain from the middle portion of the speech reads as follows:\n",
    "\n",
    "There is no strife, no prejudice, no national conflict in outer space as yet. Its hazards are hostile to us all. Its conquest deserves the best of all mankind, and its opportunity for peaceful cooperation may never come again. But why, some say, the Moon? Why choose this as our goal? And they may well ask, why climb the highest mountain? Why, 35 years ago, fly the Atlantic? Why does Rice play Texas? We choose to go to the Moon! We choose to go to the Moon ... We choose to go to the Moon in this decade and do the other things, not because they are easy, but because they are hard; because that goal will serve to organize and measure the best of our energies and skills, because that challenge is one that we are willing to accept, one we are unwilling to postpone, and one we intend to win, and the others, too.[28]\"\"\" \n",
    "\n",
    "\n",
    "tokens = text.encode(\"utf-8\")\n",
    "tokens = list(map(int, tokens))"
   ]
  },
  {
   "cell_type": "code",
   "execution_count": 41,
   "metadata": {},
   "outputs": [
    {
     "name": "stdout",
     "output_type": "stream",
     "text": [
      "merging (101, 32) into a new token 256\n",
      "merging (116, 104) into a new token 257\n",
      "merging (100, 32) into a new token 258\n",
      "merging (111, 110) into a new token 259\n",
      "merging (116, 32) into a new token 260\n",
      "merging (97, 110) into a new token 261\n",
      "merging (115, 32) into a new token 262\n",
      "merging (257, 256) into a new token 263\n",
      "merging (105, 110) into a new token 264\n",
      "merging (44, 32) into a new token 265\n",
      "merging (101, 114) into a new token 266\n",
      "merging (111, 32) into a new token 267\n",
      "merging (121, 32) into a new token 268\n",
      "merging (111, 114) into a new token 269\n",
      "merging (97, 114) into a new token 270\n",
      "merging (116, 267) into a new token 271\n",
      "merging (101, 258) into a new token 272\n",
      "merging (261, 258) into a new token 273\n",
      "merging (101, 110) into a new token 274\n",
      "merging (259, 32) into a new token 275\n"
     ]
    }
   ],
   "source": [
    "def get_stats(ids):\n",
    "    counts = {}\n",
    "\n",
    "    for pair in zip(ids, ids[1:]):\n",
    "        counts[pair] = counts.get(pair,0)+1\n",
    "    return counts\n",
    "\n",
    "def merge(ids, pair, idx):\n",
    "    newids=[]\n",
    "    i = 0\n",
    "    while i < len(ids):\n",
    "        if i < len(ids) - 1 and ids[i] == pair[0] and ids[i+1] == pair[1]:\n",
    "            newids.append(idx)\n",
    "            i+=2\n",
    "        else:\n",
    "            newids.append(ids[i])\n",
    "            i += 1\n",
    "    return newids\n",
    "\n",
    "\n",
    "vocab_size = 276\n",
    "num_merges = vocab_size - 256\n",
    "ids = list(tokens)\n",
    "\n",
    "merges ={}\n",
    "\n",
    "for i in range(num_merges):\n",
    "    stats = get_stats(ids)\n",
    "    pair = max(stats, key=stats.get)\n",
    "\n",
    "    idx = 256 +i\n",
    "    print(f\"merging {pair} into a new token {idx}\")\n",
    "    ids  = merge(ids, pair,idx)\n",
    "    merges[pair] = idx\n",
    "    \n",
    "# tokens2 = merge(tokens, top_pair, 256)\n",
    "# print(tokens2)\n",
    "# print(\"length:\", len(tokens2))\n",
    "\n"
   ]
  },
  {
   "cell_type": "code",
   "execution_count": 43,
   "metadata": {},
   "outputs": [
    {
     "name": "stdout",
     "output_type": "stream",
     "text": [
      "tokens length: 6355\n",
      "ids length: 4841\n",
      "compression ratio: 1.31X\n"
     ]
    }
   ],
   "source": [
    "# Lets take a look into compression ratio\n",
    "\n",
    "print(\"tokens length:\", len(tokens))\n",
    "print(\"ids length:\", len(ids))\n",
    "print(f\"compression ratio: {len(tokens)/ len(ids):.2f}X\")\n"
   ]
  },
  {
   "cell_type": "markdown",
   "metadata": {},
   "source": [
    "Tokenizer is a completely separate, independent module from the LLM. It has its own training set, different from LLM on which you train vocab using byte pair encoding algorithm. \n",
    "\n",
    "\n",
    "> LLM only deals with tokens and never sees any text"
   ]
  },
  {
   "cell_type": "markdown",
   "metadata": {},
   "source": [
    "## decoding\n",
    "Given a sequence of integers in the range [0, vocab_size] wht is the text?"
   ]
  },
  {
   "cell_type": "markdown",
   "metadata": {},
   "source": []
  }
 ],
 "metadata": {
  "kernelspec": {
   "display_name": "nlp",
   "language": "python",
   "name": "nlp"
  },
  "language_info": {
   "codemirror_mode": {
    "name": "ipython",
    "version": 3
   },
   "file_extension": ".py",
   "mimetype": "text/x-python",
   "name": "python",
   "nbconvert_exporter": "python",
   "pygments_lexer": "ipython3",
   "version": "3.12.4"
  }
 },
 "nbformat": 4,
 "nbformat_minor": 2
}
