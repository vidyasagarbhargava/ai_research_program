{
 "cells": [
  {
   "cell_type": "markdown",
   "id": "a9de665d-32b9-42cc-9f68-6c705e6e6b25",
   "metadata": {},
   "source": [
    "## Word2Vec Example"
   ]
  },
  {
   "cell_type": "code",
   "execution_count": null,
   "id": "09e12e5e-d3b6-41df-8ec3-5f51fa626051",
   "metadata": {},
   "outputs": [],
   "source": [
    "# loading the data\n",
    "\n",
    "with open(\"raw_text.txt\", \"r\", encoding=\"utf-8\") as f:\n",
    "    raw_text = f.readlines()\n",
    "\n",
    "print(\"Total number of character:\", len(raw_text))\n",
    "print(\"------------------------------\")\n",
    "print(raw_text[:100])"
   ]
  },
  {
   "cell_type": "code",
   "execution_count": null,
   "id": "5595c910-bb10-4f19-b7f5-a700b9a62b7e",
   "metadata": {},
   "outputs": [],
   "source": [
    "for i in range(len(raw_text)):\n",
    "    raw_text[i] = raw_text[i].lower().replace('\\n','')\n",
    "\n",
    "print(raw_text)"
   ]
  },
  {
   "cell_type": "code",
   "execution_count": null,
   "id": "9e428fd7-4c3a-4c04-a49f-fd53e9c529b0",
   "metadata": {},
   "outputs": [],
   "source": [
    "## Remove stop words and tokenize\n",
    "\n",
    "stopwords = ['the', 'is','are','can','will','be', 'a','only', 'their','now','and','at','it']\n",
    "\n",
    "filter_data = []\n",
    "\n",
    "for sent in raw_text:\n",
    "    temp_list = []\n",
    "    for word in sent.split():\n",
    "        if word not in stopwords:\n",
    "            temp_list.append(word)\n",
    "    filter_data.append(temp_list)\n",
    "print(filter_data)"
   ]
  },
  {
   "cell_type": "code",
   "execution_count": null,
   "id": "57287180-387b-493b-8ec2-d8dd16d5a70c",
   "metadata": {},
   "outputs": [],
   "source": [
    "bigrams = []\n",
    "for words_list in filter_data:\n",
    "    for i in range(len(words_list) - 1):\n",
    "        for j in range(i+1, len(words_list)):\n",
    "            bigrams.append([words_list[i], words_list[j]])\n",
    "            bigrams.append([words_list[j], words_list[i]])\n",
    "            \n",
    "\n",
    "print(bigrams)"
   ]
  },
  {
   "cell_type": "code",
   "execution_count": null,
   "id": "c7351306-18ad-414a-9240-899a3a313f06",
   "metadata": {},
   "outputs": [],
   "source": [
    "all_words = []\n",
    "for bi in bigrams:\n",
    "    all_words.extend(bi)\n",
    "\n",
    "all_words = list(set(all_words))\n",
    "all_words.sort()\n",
    "\n",
    "print(all_words)\n",
    "print(\"Total number of unique words are:\", len(all_words))"
   ]
  },
  {
   "cell_type": "code",
   "execution_count": null,
   "id": "96cb34cb-4bef-4118-9e8d-27f535aa4f29",
   "metadata": {},
   "outputs": [],
   "source": [
    "words_dict = {}\n",
    "\n",
    "counter = 0\n",
    "for word in all_words:\n",
    "    words_dict[word] = counter\n",
    "    counter += 1\n",
    "\n",
    "print(words_dict)"
   ]
  },
  {
   "cell_type": "code",
   "execution_count": null,
   "id": "47018ce3-aadc-4c2b-aa3c-ec5bbea5fc30",
   "metadata": {},
   "outputs": [],
   "source": [
    "import numpy as np\n",
    "\n",
    "onehot_data = np.zeros((len(all_words), len(all_words)))\n",
    "\n",
    "for i in range(len(all_words)):\n",
    "    onehot_data[i][i] = 1\n",
    "\n",
    "onehot_dict = {}\n",
    "counter = 0\n",
    "for word in all_words:\n",
    "    onehot_dict[word] = onehot_data[counter]\n",
    "    counter += 1\n",
    "\n",
    "for word in onehot_dict:\n",
    "    print(word, \":\", onehot_dict[word])"
   ]
  },
  {
   "cell_type": "code",
   "execution_count": null,
   "id": "bb802f8d-0830-4439-80f7-2bda1b50dbb2",
   "metadata": {},
   "outputs": [],
   "source": [
    "X = []\n",
    "Y = []\n",
    "\n",
    "for bi in bigrams:\n",
    "    X.append(onehot_dict[bi[0]])\n",
    "    Y.append(onehot_dict[bi[1]])\n",
    "    \n",
    "X = np.array(X)\n",
    "Y = np.array(Y)"
   ]
  },
  {
   "cell_type": "code",
   "execution_count": null,
   "id": "b9b07033-6c5a-4edf-9099-ec4611a11532",
   "metadata": {},
   "outputs": [],
   "source": [
    "from keras.models import Sequential\n",
    "from keras.layers import Dense\n",
    "\n",
    "embed_size = 2\n",
    "\n",
    "model = Sequential([\n",
    "    Dense(embed_size, activation='linear'),\n",
    "    Dense(Y.shape[1], activation = 'softmax')\n",
    "])\n",
    "\n",
    "model.compile(loss = 'categorical_crossentropy', optimizer = 'adam')\n"
   ]
  },
  {
   "cell_type": "code",
   "execution_count": null,
   "id": "77560b9b-8d39-48d8-8727-9fb339e70fbe",
   "metadata": {},
   "outputs": [],
   "source": [
    "model.fit(X, Y, epochs = 1000, batch_size = 256, verbose = False)"
   ]
  },
  {
   "cell_type": "code",
   "execution_count": null,
   "id": "814e973c-68d5-4e43-8f69-ab47b91afc73",
   "metadata": {},
   "outputs": [],
   "source": [
    "weights = model.get_weights()[0]\n",
    "\n",
    "word_embeddings = {}\n",
    "for word in all_words:\n",
    "    word_embeddings[word] = weights[words_dict[word]]\n",
    "\n",
    "print(word_embeddings)"
   ]
  },
  {
   "cell_type": "code",
   "execution_count": null,
   "id": "ef136fbb-0b18-46e8-b78e-f71b84ba5552",
   "metadata": {},
   "outputs": [],
   "source": [
    "import matplotlib.pyplot as plt\n",
    "\n",
    "plt.figure(figsize = (14, 8))\n",
    "for word in list(words_dict.keys()):\n",
    "    coord = word_embeddings.get(word)\n",
    "    plt.scatter(coord[0], coord[1])\n",
    "    plt.annotate(word, (coord[0], coord[1]))\n",
    "\n",
    "plt.savefig('img.jpg')"
   ]
  }
 ],
 "metadata": {
  "kernelspec": {
   "display_name": "nlp",
   "language": "python",
   "name": "nlp"
  },
  "language_info": {
   "codemirror_mode": {
    "name": "ipython",
    "version": 3
   },
   "file_extension": ".py",
   "mimetype": "text/x-python",
   "name": "python",
   "nbconvert_exporter": "python",
   "pygments_lexer": "ipython3",
   "version": "3.12.4"
  }
 },
 "nbformat": 4,
 "nbformat_minor": 5
}
